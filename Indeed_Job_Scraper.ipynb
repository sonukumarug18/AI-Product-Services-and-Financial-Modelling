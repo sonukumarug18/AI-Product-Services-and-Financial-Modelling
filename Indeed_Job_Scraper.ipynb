{
 "cells": [
  {
   "cell_type": "markdown",
   "metadata": {},
   "source": [
    "## Indeed Job Scraper\n",
    "\n",
    "A web scraper to extract job postings from www.indeed.com \n",
    "Here, I have extracted jobs for Data Analyst In india.(any job can be Extracted by changing the Url link)\n",
    "\n",
    "Number of Pages Scraped: 3 (can be increased)\n",
    "\n",
    "Number of Attributes: 9\n",
    "\n",
    "Attribute Information: \n",
    "   1. job_title\n",
    "   2. company_name\n",
    "   3. company_location\n",
    "   4. job_summary\n",
    "   5. post_date\n",
    "   6. salary\n",
    "   4. rating\n",
    "   8. extract_date\n",
    "   9. job_url"
   ]
  },
  {
   "cell_type": "code",
   "execution_count": 1,
   "metadata": {},
   "outputs": [],
   "source": [
    "#importing All Libraries\n",
    "from bs4 import BeautifulSoup\n",
    "import requests\n",
    "import csv\n",
    "from time import sleep\n",
    "from random import randint\n",
    "from datetime import datetime"
   ]
  },
  {
   "cell_type": "code",
   "execution_count": 2,
   "metadata": {},
   "outputs": [],
   "source": [
    "#function to Extract Data From  a job card\n",
    "\n",
    "def get_record(card):\n",
    "    '''extract data from a single record'''\n",
    "\n",
    "\n",
    "    #job title\n",
    "    atag = card.h2\n",
    "\n",
    "    try:   #Handling the errors\n",
    "        atag.get('span','title')\n",
    "        job_title = atag.text.strip()\n",
    "    except AttributeError:\n",
    "\n",
    "        job_title =''\n",
    "\n",
    "    try:\n",
    "        company_name = card.find('span','companyName').text.strip()\n",
    "    except AttributeError:\n",
    "        company_name = ''\n",
    "\n",
    "    try:\n",
    "\n",
    "        company_location = card.find('div','companyLocation').text.strip()\n",
    "    except AttributeError:\n",
    "        company_location = ''\n",
    "    try:\n",
    "\n",
    "        job_summary = card.find('div','job-snippet').text.strip()\n",
    "    except AttributeError:\n",
    "        job_summary = ''\n",
    "    try:\n",
    "        post_date = card.find('span','date').text.strip()\n",
    "    except AttributeError:\n",
    "        post_date = ''\n",
    "    try:\n",
    "        salary = card.find('div','metadata salary-snippet-container').text.strip()\n",
    "\n",
    "    except AttributeError:\n",
    "        salary = ''\n",
    "    try:    \n",
    "        rating = card.find('span','ratingNumber').text.strip()\n",
    "    except AttributeError:\n",
    "        rating =''\n",
    "\n",
    "    extract_date = datetime.today().strftime('%d-%m-%y')\n",
    "\n",
    "    htag = card.a\n",
    "    htag.get('href')\n",
    "\n",
    "    try:\n",
    "        job_url = 'https://www.indeed.com' + htag.get('href')\n",
    "    except AttributeError:\n",
    "        job_url = ''\n",
    "\n",
    "#combine these items into a tuple and then assign it to a record variable ,and return a record\n",
    "\n",
    "    record = (job_title,company_name,company_location,job_summary,post_date,salary,rating,extract_date,job_url)\n",
    "    return record\n",
    "\n",
    "    \n",
    "\n"
   ]
  },
  {
   "cell_type": "code",
   "execution_count": 3,
   "metadata": {},
   "outputs": [],
   "source": [
    "\n",
    "i = 10 #Assining the start Page , 10 refers to page number 1 and 30 refers to page number 3 \n",
    "records = []\n",
    "while (i < 31):  #Iterating till page number 3\n",
    "    url = f'https://in.indeed.com/jobs?q=data%20analyst%20&l=india&start={i}'\n",
    "    \n",
    "    delay = randint(1, 10)\n",
    "    sleep(delay)\n",
    "    \n",
    "    response = requests.get(url)\n",
    "    soup = BeautifulSoup(response.text,'html.parser')\n",
    "\n",
    "    cards= soup.find_all(\"div\",'job_seen_beacon')\n",
    "     \n",
    "    \n",
    "    #iterate through each card\n",
    "     \n",
    "    for card in cards:\n",
    "        record = get_record(card)   #extracting the record from the card data \n",
    "        records.append(record)      #appending the extracted data to records list\n",
    "    \n",
    "    i += 10\n",
    "    \n",
    "#creating the DataFrame        \n",
    "\n",
    "with open('Joblist.csv', 'w', newline='', encoding='utf-8') as f:\n",
    "        writer = csv.writer(f)\n",
    "        writer.writerow(['Job Title', 'Company', 'Location', 'Summary', 'Posting_Date', 'Salary', 'Rating','Extract_Date', 'Job_Url'])\n",
    "        writer.writerows(records)\n"
   ]
  },
  {
   "cell_type": "code",
   "execution_count": 4,
   "metadata": {},
   "outputs": [
    {
     "data": {
      "text/plain": [
       "45"
      ]
     },
     "execution_count": 4,
     "metadata": {},
     "output_type": "execute_result"
    }
   ],
   "source": [
    "#getting Total Number of Jobs Scraped.\n",
    "len(records)"
   ]
  },
  {
   "cell_type": "code",
   "execution_count": 5,
   "metadata": {},
   "outputs": [
    {
     "data": {
      "text/plain": [
       "('Lead Analyst, Data Management Quant Analysis',\n",
       " 'BNY Mellon',\n",
       " 'Pune, Maharashtra',\n",
       " 'Prior experience and knowledge of data visualization tools i.e. Power BI and Tableau is preferred.\\nCandidate should be able to aggregate, interpret complex data…',\n",
       " 'EmployerActive 2 days ago',\n",
       " '₹3,99,497 - ₹15,73,362 a year',\n",
       " '3.5',\n",
       " '05-07-22',\n",
       " 'https://www.indeed.com/company/BNY-Mellon/jobs/Lead-Analyst-4c0e3d5a67795791?fccid=b4048be2884af072&vjs=3')"
      ]
     },
     "execution_count": 5,
     "metadata": {},
     "output_type": "execute_result"
    }
   ],
   "source": [
    "#Viewing Sample Job for Sanity Check\n",
    "records[25]"
   ]
  },
  {
   "cell_type": "code",
   "execution_count": null,
   "metadata": {},
   "outputs": [],
   "source": []
  }
 ],
 "metadata": {
  "kernelspec": {
   "display_name": "Python 3",
   "language": "python",
   "name": "python3"
  },
  "language_info": {
   "codemirror_mode": {
    "name": "ipython",
    "version": 3
   },
   "file_extension": ".py",
   "mimetype": "text/x-python",
   "name": "python",
   "nbconvert_exporter": "python",
   "pygments_lexer": "ipython3",
   "version": "3.6.5"
  }
 },
 "nbformat": 4,
 "nbformat_minor": 2
}
