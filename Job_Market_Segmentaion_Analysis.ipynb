{
 "cells": [
  {
   "cell_type": "markdown",
   "metadata": {},
   "source": [
    "# Joblist Dataset\n",
    "\n",
    "Dataset : [https://www.kaggle.com/datasets/usamakhan8199/current-data-science-jobs-in-india-by-glassdoor]\n",
    "\n",
    "This Dataset consists list of AI Jobs in india .\n",
    "\n",
    "This dataset is scraped from glassdoor.\n",
    "\n",
    "Job titles which are interchangeably used ('Data Scientist', 'Data Engineer' ,'Machine Learning Engineer','Data Analyst').\n",
    "\n",
    "Number of rows in data - 885\n",
    "\n",
    "Number of columns/attribute in data - 19\n",
    "\n",
    "Attribute Information:\n",
    "\n",
    "* 'Job.Title' : Job title\n",
    "* 'Job.Description': Job description\n",
    "* 'Rating': Job rating\n",
    "* 'Company.Name': Company name\n",
    "* 'Location': Location of the company\n",
    "* 'Headquarters': Company headquarters\n",
    "* 'Size': the Size of the company\n",
    "* 'Founded': The year it was founded\n",
    "* 'Type.of.ownership': Public or private ownership\n",
    "* 'Industry': Type of industry company belongs\n",
    "* 'Sector': Type of sector company belongs\n",
    "* 'Revenue': Yearly revenue by company\n",
    "* 'Competitors': Company competitors\n",
    "* 'Python': Does description has python keyword in it 1 if yes 0 if no\n",
    "* 'R.Prog': Does description has R prog keyword in it 1 if yes 0 if no\n",
    "* 'Excel': Does description has Excel keyword in it 1 if yes 0 if no\n",
    "* 'Hadoop': Does description has Hadoop keyword in it 1 if yes 0 if no\n",
    "* 'SQL': Does description has SQL keyword in it 1 if yes 0 if no\n",
    "* 'SAS: Does description has SAS keyword in it 1 if yes 0 if no\n"
   ]
  },
  {
   "cell_type": "markdown",
   "metadata": {},
   "source": [
    "## Objective:\n",
    " Finding Companies most probable to hire an ML Engineer/Data Analyst Applicant in respect to his/her skillset.\n",
    " \n",
    " To analyse Machine Learning Job Market in India with respect to the given problem statement using Segmentation analysis and       outline the segments most optimal to apply or prepare for Machine Learning Jobs.\n",
    " \n",
    " "
   ]
  },
  {
   "cell_type": "code",
   "execution_count": 63,
   "metadata": {},
   "outputs": [],
   "source": [
    "#import all the necessary packages.\n",
    "import pandas as pd\n",
    "import numpy as np\n",
    "from collections import Counter\n",
    "import matplotlib.pyplot as plt\n",
    "import warnings\n",
    "import seaborn as sns\n",
    "\n",
    "\n",
    "\n",
    "\n",
    "\n"
   ]
  },
  {
   "cell_type": "markdown",
   "metadata": {},
   "source": [
    "## Overview of the Data"
   ]
  },
  {
   "cell_type": "code",
   "execution_count": 39,
   "metadata": {
    "scrolled": true
   },
   "outputs": [],
   "source": [
    "#load data\n",
    "data =pd.read_csv('cleaned_job_dataset.csv', encoding = \"ISO-8859-1\")\n"
   ]
  },
  {
   "cell_type": "code",
   "execution_count": 4,
   "metadata": {},
   "outputs": [
    {
     "name": "stdout",
     "output_type": "stream",
     "text": [
      "Number of data points and columns\n",
      "(885, 19)\n",
      "************************\n",
      "Index(['Job.Title', 'Job.Description', 'Rating', 'Company.Name', 'Location',\n",
      "       'Headquarters', 'Size', 'Founded', 'Type.of.ownership', 'Industry',\n",
      "       'Sector', 'Revenue', 'Competitors', 'Python', 'R Prog', 'Excel',\n",
      "       'Hadoop', 'SQL', 'SAS'],\n",
      "      dtype='object')\n"
     ]
    }
   ],
   "source": [
    "#numbers of data points\n",
    "#number of features \n",
    "\n",
    "print('Number of data points and columns')\n",
    "print(data.shape)\n",
    "print('************************')\n",
    "\n",
    "print(data.columns)\n"
   ]
  },
  {
   "cell_type": "code",
   "execution_count": 5,
   "metadata": {},
   "outputs": [
    {
     "data": {
      "text/html": [
       "<div>\n",
       "<style scoped>\n",
       "    .dataframe tbody tr th:only-of-type {\n",
       "        vertical-align: middle;\n",
       "    }\n",
       "\n",
       "    .dataframe tbody tr th {\n",
       "        vertical-align: top;\n",
       "    }\n",
       "\n",
       "    .dataframe thead th {\n",
       "        text-align: right;\n",
       "    }\n",
       "</style>\n",
       "<table border=\"1\" class=\"dataframe\">\n",
       "  <thead>\n",
       "    <tr style=\"text-align: right;\">\n",
       "      <th></th>\n",
       "      <th>Job.Title</th>\n",
       "      <th>Job.Description</th>\n",
       "      <th>Rating</th>\n",
       "      <th>Company.Name</th>\n",
       "      <th>Location</th>\n",
       "      <th>Headquarters</th>\n",
       "      <th>Size</th>\n",
       "      <th>Founded</th>\n",
       "      <th>Type.of.ownership</th>\n",
       "      <th>Industry</th>\n",
       "      <th>Sector</th>\n",
       "      <th>Revenue</th>\n",
       "      <th>Competitors</th>\n",
       "      <th>Python</th>\n",
       "      <th>R Prog</th>\n",
       "      <th>Excel</th>\n",
       "      <th>Hadoop</th>\n",
       "      <th>SQL</th>\n",
       "      <th>SAS</th>\n",
       "    </tr>\n",
       "  </thead>\n",
       "  <tbody>\n",
       "    <tr>\n",
       "      <th>0</th>\n",
       "      <td>Data Scientist</td>\n",
       "      <td>Site Name: India - Karnataka - Bangalore\\r\\nPo...</td>\n",
       "      <td>3.9</td>\n",
       "      <td>GSK</td>\n",
       "      <td>Bengaluru</td>\n",
       "      <td>Brentford, United Kingdom</td>\n",
       "      <td>10000+ employees</td>\n",
       "      <td>1830</td>\n",
       "      <td>Company - Public</td>\n",
       "      <td>Biotech &amp; Pharmaceuticals</td>\n",
       "      <td>Biotech &amp; Pharmaceuticals</td>\n",
       "      <td>500+ billion (INR)</td>\n",
       "      <td>Pfizer, AstraZeneca, Merck</td>\n",
       "      <td>1</td>\n",
       "      <td>0</td>\n",
       "      <td>0</td>\n",
       "      <td>1</td>\n",
       "      <td>0</td>\n",
       "      <td>0</td>\n",
       "    </tr>\n",
       "    <tr>\n",
       "      <th>1</th>\n",
       "      <td>Data Scientist</td>\n",
       "      <td>Overview\\r\\n\\r\\n\\r\\nWe have an exciting opport...</td>\n",
       "      <td>4.0</td>\n",
       "      <td>Quanticate</td>\n",
       "      <td>Bengaluru</td>\n",
       "      <td>Hitchin, United Kingdom</td>\n",
       "      <td>201 to 500 employees</td>\n",
       "      <td>1995</td>\n",
       "      <td>Company - Private</td>\n",
       "      <td>Biotech &amp; Pharmaceuticals</td>\n",
       "      <td>Biotech &amp; Pharmaceuticals</td>\n",
       "      <td>1 to 5 billion (INR)</td>\n",
       "      <td>GCE Solutions, Parexel, IQVIA</td>\n",
       "      <td>1</td>\n",
       "      <td>0</td>\n",
       "      <td>0</td>\n",
       "      <td>0</td>\n",
       "      <td>0</td>\n",
       "      <td>1</td>\n",
       "    </tr>\n",
       "    <tr>\n",
       "      <th>2</th>\n",
       "      <td>Data Scientist</td>\n",
       "      <td>Provide analytical insights into emerging prob...</td>\n",
       "      <td>3.5</td>\n",
       "      <td>PayPal</td>\n",
       "      <td>Bengaluru</td>\n",
       "      <td>San Jose, CA</td>\n",
       "      <td>10000+ employees</td>\n",
       "      <td>1998</td>\n",
       "      <td>Company - Public</td>\n",
       "      <td>Internet</td>\n",
       "      <td>Information Technology</td>\n",
       "      <td>500+ billion (INR)</td>\n",
       "      <td>Square, Amazon, Apple</td>\n",
       "      <td>1</td>\n",
       "      <td>0</td>\n",
       "      <td>0</td>\n",
       "      <td>0</td>\n",
       "      <td>1</td>\n",
       "      <td>1</td>\n",
       "    </tr>\n",
       "    <tr>\n",
       "      <th>3</th>\n",
       "      <td>Data Scientist</td>\n",
       "      <td>At Amazon, we strive to be most customer-centr...</td>\n",
       "      <td>4.2</td>\n",
       "      <td>Amazon</td>\n",
       "      <td>Hyderabad</td>\n",
       "      <td>Seattle, WA</td>\n",
       "      <td>10000+ employees</td>\n",
       "      <td>1994</td>\n",
       "      <td>Company - Public</td>\n",
       "      <td>Internet</td>\n",
       "      <td>Information Technology</td>\n",
       "      <td>500+ billion (INR)</td>\n",
       "      <td>Google, Microsoft, Walmart</td>\n",
       "      <td>1</td>\n",
       "      <td>0</td>\n",
       "      <td>1</td>\n",
       "      <td>0</td>\n",
       "      <td>1</td>\n",
       "      <td>0</td>\n",
       "    </tr>\n",
       "    <tr>\n",
       "      <th>4</th>\n",
       "      <td>Data Scientist</td>\n",
       "      <td>When everything's connected, how we connect is...</td>\n",
       "      <td>3.3</td>\n",
       "      <td>TTEC</td>\n",
       "      <td>Hyderabad</td>\n",
       "      <td>Englewood, CO</td>\n",
       "      <td>10000+ employees</td>\n",
       "      <td>1982</td>\n",
       "      <td>Company - Public</td>\n",
       "      <td>Staffing &amp; Outsourcing</td>\n",
       "      <td>Business Services</td>\n",
       "      <td>100 to 500 billion (INR)</td>\n",
       "      <td>Teleperformance, TaskUs, Convergys</td>\n",
       "      <td>1</td>\n",
       "      <td>0</td>\n",
       "      <td>1</td>\n",
       "      <td>0</td>\n",
       "      <td>0</td>\n",
       "      <td>1</td>\n",
       "    </tr>\n",
       "  </tbody>\n",
       "</table>\n",
       "</div>"
      ],
      "text/plain": [
       "        Job.Title                                    Job.Description  Rating  \\\n",
       "0  Data Scientist  Site Name: India - Karnataka - Bangalore\\r\\nPo...     3.9   \n",
       "1  Data Scientist  Overview\\r\\n\\r\\n\\r\\nWe have an exciting opport...     4.0   \n",
       "2  Data Scientist  Provide analytical insights into emerging prob...     3.5   \n",
       "3  Data Scientist  At Amazon, we strive to be most customer-centr...     4.2   \n",
       "4  Data Scientist  When everything's connected, how we connect is...     3.3   \n",
       "\n",
       "  Company.Name   Location               Headquarters                  Size  \\\n",
       "0          GSK  Bengaluru  Brentford, United Kingdom      10000+ employees   \n",
       "1   Quanticate  Bengaluru    Hitchin, United Kingdom  201 to 500 employees   \n",
       "2       PayPal  Bengaluru               San Jose, CA      10000+ employees   \n",
       "3       Amazon  Hyderabad                Seattle, WA      10000+ employees   \n",
       "4         TTEC  Hyderabad              Englewood, CO      10000+ employees   \n",
       "\n",
       "   Founded  Type.of.ownership                   Industry  \\\n",
       "0     1830   Company - Public  Biotech & Pharmaceuticals   \n",
       "1     1995  Company - Private  Biotech & Pharmaceuticals   \n",
       "2     1998   Company - Public                   Internet   \n",
       "3     1994   Company - Public                   Internet   \n",
       "4     1982   Company - Public     Staffing & Outsourcing   \n",
       "\n",
       "                      Sector                   Revenue  \\\n",
       "0  Biotech & Pharmaceuticals        500+ billion (INR)   \n",
       "1  Biotech & Pharmaceuticals      1 to 5 billion (INR)   \n",
       "2     Information Technology        500+ billion (INR)   \n",
       "3     Information Technology        500+ billion (INR)   \n",
       "4          Business Services  100 to 500 billion (INR)   \n",
       "\n",
       "                          Competitors  Python  R Prog  Excel  Hadoop  SQL  SAS  \n",
       "0          Pfizer, AstraZeneca, Merck       1       0      0       1    0    0  \n",
       "1       GCE Solutions, Parexel, IQVIA       1       0      0       0    0    1  \n",
       "2               Square, Amazon, Apple       1       0      0       0    1    1  \n",
       "3          Google, Microsoft, Walmart       1       0      1       0    1    0  \n",
       "4  Teleperformance, TaskUs, Convergys       1       0      1       0    0    1  "
      ]
     },
     "execution_count": 5,
     "metadata": {},
     "output_type": "execute_result"
    }
   ],
   "source": [
    "#overview of few rows:\n",
    "data.head()"
   ]
  },
  {
   "cell_type": "markdown",
   "metadata": {},
   "source": [
    "## Understanding various features"
   ]
  },
  {
   "cell_type": "markdown",
   "metadata": {},
   "source": [
    "### Basic stats for feature:Job.Title"
   ]
  },
  {
   "cell_type": "code",
   "execution_count": 6,
   "metadata": {},
   "outputs": [
    {
     "name": "stdout",
     "output_type": "stream",
     "text": [
      "count                885\n",
      "unique                 4\n",
      "top       Data Scientist\n",
      "freq                 546\n",
      "Name: Job.Title, dtype: object\n"
     ]
    }
   ],
   "source": [
    "print(data['Job.Title'].describe())"
   ]
  },
  {
   "cell_type": "markdown",
   "metadata": {},
   "source": [
    "#### Observations:\n",
    "\n",
    "we have total 4 unique job title.\n",
    "\n",
    "(546/885) = 61 percent of job title is data Scientist."
   ]
  },
  {
   "cell_type": "code",
   "execution_count": 7,
   "metadata": {},
   "outputs": [
    {
     "name": "stdout",
     "output_type": "stream",
     "text": [
      "['Data Scientist' 'Data Engineer' 'Machine Learning Engineer'\n",
      " 'Data Analyst']\n"
     ]
    }
   ],
   "source": [
    "#type of job title\n",
    "print(data['Job.Title'].unique())"
   ]
  },
  {
   "cell_type": "markdown",
   "metadata": {},
   "source": [
    "### Basic stats for feature:Company.Name"
   ]
  },
  {
   "cell_type": "code",
   "execution_count": 8,
   "metadata": {},
   "outputs": [
    {
     "name": "stdout",
     "output_type": "stream",
     "text": [
      "count        885\n",
      "unique       455\n",
      "top       ZoomRx\n",
      "freq          22\n",
      "Name: Company.Name, dtype: object\n"
     ]
    }
   ],
   "source": [
    "print(data['Company.Name'].describe())"
   ]
  },
  {
   "cell_type": "code",
   "execution_count": 9,
   "metadata": {},
   "outputs": [
    {
     "data": {
      "text/plain": [
       "[('ZoomRx', 22),\n",
       " ('Amazon', 12),\n",
       " ('EY', 12),\n",
       " ('Sanofi', 12),\n",
       " ('Walmart', 12),\n",
       " ('Quantzig', 12),\n",
       " ('Citi', 12),\n",
       " ('String Bio', 12),\n",
       " ('Matelabs Innovations Pvt. Ltd.', 12),\n",
       " ('LogisticsNow', 11)]"
      ]
     },
     "execution_count": 9,
     "metadata": {},
     "output_type": "execute_result"
    }
   ],
   "source": [
    "# find the 10 most frequent Company.Name.\n",
    "Company_Name_count = Counter(list(data['Company.Name']))\n",
    "Company_Name_count.most_common(10)"
   ]
  },
  {
   "cell_type": "markdown",
   "metadata": {},
   "source": [
    "#### Observations:\n",
    "1. we have 445 Unique company.\n",
    "2. top Frequent company is ZoomRx.\n",
    "3. we can see the top 10 company which are hiring Like Amazon,EY,Walmart etc"
   ]
  },
  {
   "cell_type": "markdown",
   "metadata": {},
   "source": [
    "### Basic stats for feature: Rating "
   ]
  },
  {
   "cell_type": "code",
   "execution_count": 10,
   "metadata": {},
   "outputs": [
    {
     "name": "stdout",
     "output_type": "stream",
     "text": [
      "count    885.000000\n",
      "mean       3.063729\n",
      "std        1.865526\n",
      "min       -1.000000\n",
      "25%        3.200000\n",
      "50%        3.800000\n",
      "75%        4.200000\n",
      "max        5.000000\n",
      "Name: Rating, dtype: float64\n"
     ]
    }
   ],
   "source": [
    "print(data['Rating'].describe())"
   ]
  },
  {
   "cell_type": "code",
   "execution_count": 11,
   "metadata": {},
   "outputs": [
    {
     "data": {
      "text/plain": [
       "Company.Name\n",
       "Machstatz             5.0\n",
       "eInvenSys             5.0\n",
       "TCPWave               5.0\n",
       "Seldon                5.0\n",
       "Q-Dat IT Solutions    5.0\n",
       "Name: Rating, dtype: float64"
      ]
     },
     "execution_count": 11,
     "metadata": {},
     "output_type": "execute_result"
    }
   ],
   "source": [
    "data.groupby(by=['Company.Name'])['Rating'].mean().sort_values(ascending=False).head(5)\n"
   ]
  },
  {
   "cell_type": "markdown",
   "metadata": {},
   "source": [
    "#### Observations:\n",
    "1. Company like machstaz , eInvenSys ,TCPWave etc have higher ratings.\n",
    "2. Companies which have high ratings means employees are Satisfied and Happier."
   ]
  },
  {
   "cell_type": "markdown",
   "metadata": {},
   "source": [
    "### Basic stats for feature: Location"
   ]
  },
  {
   "cell_type": "code",
   "execution_count": 12,
   "metadata": {},
   "outputs": [
    {
     "name": "stdout",
     "output_type": "stream",
     "text": [
      "count           885\n",
      "unique           32\n",
      "top       Bengaluru\n",
      "freq            393\n",
      "Name: Location, dtype: object\n",
      "************************************\n",
      "Unique locations are\n",
      "['Bengaluru' 'Hyderabad' 'Chennai' 'Mumbai' '-1' 'Pune' 'Kozhikode'\n",
      " 'Gurgaon' 'Chandigarh' 'India' 'New Delhi' 'Noida' 'Jamshedpur'\n",
      " 'Ahmedabad' 'Gandhinagar' 'Thiruvananthapuram' 'Indore' 'Guntur' 'Surat'\n",
      " 'Bhubaneswar' 'Madurai' 'Barabanki' 'Ludhiana' 'Kolkata' 'Bagalur'\n",
      " 'Kochi' 'Pitampura' 'Nagpur' 'Jaipur' 'Vadodara' 'Mangalore' 'Mysore']\n"
     ]
    }
   ],
   "source": [
    "print(data['Location'].describe())\n",
    "\n",
    "print('************************************')\n",
    "#unique Locations:\n",
    "\n",
    "print('Unique locations are')\n",
    "print(data['Location'].unique())"
   ]
  },
  {
   "cell_type": "code",
   "execution_count": 13,
   "metadata": {},
   "outputs": [
    {
     "data": {
      "text/plain": [
       "[('Bengaluru', 393),\n",
       " ('Mumbai', 134),\n",
       " ('Hyderabad', 76),\n",
       " ('Pune', 67),\n",
       " ('Chennai', 61),\n",
       " ('Gurgaon', 35),\n",
       " ('New Delhi', 21),\n",
       " ('India', 18),\n",
       " ('Kochi', 13)]"
      ]
     },
     "execution_count": 13,
     "metadata": {},
     "output_type": "execute_result"
    }
   ],
   "source": [
    "# find the 9 most frequent locations which is hiring .\n",
    "Location_count = Counter(list(data['Location']))\n",
    "Location_count.most_common(9)"
   ]
  },
  {
   "cell_type": "markdown",
   "metadata": {},
   "source": [
    "#### Observations:\n",
    "1. we have 32 unique locations.\n",
    "2. top frequent Location hiring is Bengaluru (393 out of 885 i.e is 44 percent).\n",
    "3. Most freqent locations are Beangaluru, Mumbai, Hyderabad, Pune etc\n"
   ]
  },
  {
   "cell_type": "markdown",
   "metadata": {},
   "source": [
    "### Basic stats for feature: Size"
   ]
  },
  {
   "cell_type": "code",
   "execution_count": 14,
   "metadata": {},
   "outputs": [
    {
     "name": "stdout",
     "output_type": "stream",
     "text": [
      "count                   885\n",
      "unique                    8\n",
      "top       1 to 50 employees\n",
      "freq                    226\n",
      "Name: Size, dtype: object\n"
     ]
    }
   ],
   "source": [
    "print(data['Size'].describe())"
   ]
  },
  {
   "cell_type": "code",
   "execution_count": 15,
   "metadata": {},
   "outputs": [
    {
     "name": "stdout",
     "output_type": "stream",
     "text": [
      "['10000+ employees' '201 to 500 employees' '5001 to 10000 employees'\n",
      " '1001 to 5000 employees' '-1' '1 to 50 employees' '51 to 200 employees'\n",
      " '501 to 1000 employees']\n"
     ]
    }
   ],
   "source": [
    "#type of Size\n",
    "print(data['Size'].unique())"
   ]
  },
  {
   "cell_type": "markdown",
   "metadata": {},
   "source": [
    "#### Observations:\n",
    "1. we have 8 unique size based on number of employees.\n",
    "2. Top frequent size is 1-50 employees.\n",
    "3. we can conclude that startup companies are more."
   ]
  },
  {
   "cell_type": "markdown",
   "metadata": {},
   "source": [
    "### Basic stats for feature:  Industry"
   ]
  },
  {
   "cell_type": "code",
   "execution_count": 16,
   "metadata": {},
   "outputs": [
    {
     "name": "stdout",
     "output_type": "stream",
     "text": [
      "count     885\n",
      "unique     53\n",
      "top        -1\n",
      "freq      249\n",
      "Name: Industry, dtype: object\n",
      "************************************************\n",
      "Number of Unique Industry\n",
      "['Biotech & Pharmaceuticals' 'Internet' 'Staffing & Outsourcing'\n",
      " 'Enterprise Software & Network Solutions' 'Chemical Manufacturing' '-1'\n",
      " 'Architectural & Engineering Services' 'IT Services'\n",
      " 'Sporting Goods Shops' 'Cable, Internet & Telephone Providers'\n",
      " 'Consulting' 'Computer Hardware & Software'\n",
      " 'Financial Analytics & Research' 'Brokerage Services'\n",
      " 'Oil & Gas Exploration & Production' 'Film Production & Distribution'\n",
      " 'Lending' 'Financial Transaction Processing' 'Advertising & Marketing'\n",
      " 'Aerospace & Defence' 'Ticket Sales' 'TV Broadcasting & Cable Networks'\n",
      " 'Accounting' 'Research & Development' 'Healthcare Services & Hospitals'\n",
      " 'Investment Banking & Asset Management' 'Consumer Products Manufacturing'\n",
      " 'Oil & Gas Services' 'Real Estate' 'Department, Clothing, & Shoe Shops'\n",
      " 'Transportation Equipment Manufacturing' 'Transportation Management'\n",
      " 'Shipping' 'Banks & Building Societies' 'Video Games'\n",
      " 'Primary & Secondary Education' 'Miscellaneous Manufacturing'\n",
      " 'Electrical & Electronic Manufacturing' 'Music Production & Distribution'\n",
      " 'Publishing' 'Education Training Services' 'Telecommunications Services'\n",
      " 'Food & Drink Manufacturing' 'Industrial Manufacturing'\n",
      " 'Colleges & Universities' 'Metal Brokerages' 'Insurance Operators'\n",
      " 'Food Production' 'Asphalt Product Manufacturing' 'Other Retail Shops'\n",
      " 'General Merchandise & Superstores' 'Logistics & Supply Chain'\n",
      " 'Travel Agencies']\n",
      "************************************************\n",
      "The top 10 Most Frequent Industry Which is Hiring\n"
     ]
    },
    {
     "data": {
      "text/plain": [
       "[('-1', 249),\n",
       " ('IT Services', 103),\n",
       " ('Staffing & Outsourcing', 65),\n",
       " ('Consulting', 61),\n",
       " ('Computer Hardware & Software', 59),\n",
       " ('Enterprise Software & Network Solutions', 56),\n",
       " ('Biotech & Pharmaceuticals', 46),\n",
       " ('Internet', 40),\n",
       " ('Investment Banking & Asset Management', 26),\n",
       " ('Advertising & Marketing', 16)]"
      ]
     },
     "execution_count": 16,
     "metadata": {},
     "output_type": "execute_result"
    }
   ],
   "source": [
    "print(data['Industry'].describe())\n",
    "\n",
    "print('************************************************')\n",
    "\n",
    "print('Number of Unique Industry')\n",
    "print(data['Industry'].unique())\n",
    "\n",
    "print('************************************************')\n",
    "\n",
    "# find the 10 most frequent Industry which is hiring .\n",
    "print('The top 10 Most Frequent Industry Which is Hiring')\n",
    "Industry_count = Counter(list(data['Industry']))\n",
    "Industry_count.most_common(10)"
   ]
  },
  {
   "cell_type": "markdown",
   "metadata": {},
   "source": [
    "#### Observations:\n",
    "1. -1 doesn't make any sense.\n",
    "2. we have 52 Unique industry which are hiring.\n",
    "3. Top Most Frequent Industries hiring are IT services , Staffing & Outsourcing ,Consulting etc."
   ]
  },
  {
   "cell_type": "markdown",
   "metadata": {},
   "source": [
    "### Basic stats for feature: Revenue"
   ]
  },
  {
   "cell_type": "code",
   "execution_count": 17,
   "metadata": {},
   "outputs": [
    {
     "name": "stdout",
     "output_type": "stream",
     "text": [
      "count     885\n",
      "unique     11\n",
      "top        -1\n",
      "freq      498\n",
      "Name: Revenue, dtype: object\n",
      "************************************************\n",
      "Number of Unique Revenue\n",
      "['500+ billion (INR)' '1 to 5 billion (INR)' '100 to 500 billion (INR)'\n",
      " '50 to 100 billion (INR)' '500 million to 1 billion (INR)' '-1'\n",
      " '10 to 50 billion (INR)' '100 to 500 million (INR)'\n",
      " '10 to 50 million (INR)' '5 to 10 billion (INR)'\n",
      " '50 to 100 million (INR)']\n",
      "************************************************\n",
      "The top 10 Most Frequent Revenue\n"
     ]
    },
    {
     "data": {
      "text/plain": [
       "[('-1', 498),\n",
       " ('500+ billion (INR)', 168),\n",
       " ('1 to 5 billion (INR)', 52),\n",
       " ('100 to 500 billion (INR)', 41),\n",
       " ('10 to 50 billion (INR)', 32),\n",
       " ('500 million to 1 billion (INR)', 31),\n",
       " ('50 to 100 billion (INR)', 23),\n",
       " ('100 to 500 million (INR)', 22),\n",
       " ('10 to 50 million (INR)', 13),\n",
       " ('5 to 10 billion (INR)', 3)]"
      ]
     },
     "execution_count": 17,
     "metadata": {},
     "output_type": "execute_result"
    }
   ],
   "source": [
    "print(data['Revenue'].describe())\n",
    "\n",
    "print('************************************************')\n",
    "\n",
    "print('Number of Unique Revenue')\n",
    "print(data['Revenue'].unique())\n",
    "\n",
    "print('************************************************')\n",
    "\n",
    "# find the 10 most frequent revenue.\n",
    "print('The top 10 Most Frequent Revenue')\n",
    "Revenue_count = Counter(list(data['Revenue']))\n",
    "Revenue_count.most_common(10)"
   ]
  },
  {
   "cell_type": "markdown",
   "metadata": {},
   "source": [
    "### Basic stats for feature: Sector"
   ]
  },
  {
   "cell_type": "code",
   "execution_count": 18,
   "metadata": {},
   "outputs": [
    {
     "name": "stdout",
     "output_type": "stream",
     "text": [
      "count                        885\n",
      "unique                        21\n",
      "top       Information Technology\n",
      "freq                         258\n",
      "Name: Sector, dtype: object\n",
      "************************************************\n",
      "Number of Unique Sector\n",
      "['Biotech & Pharmaceuticals' 'Information Technology' 'Business Services'\n",
      " 'Manufacturing' '-1' 'Retail' 'Telecommunications' 'Finance'\n",
      " 'Oil, Gas, Energy & Utilities' 'Media' 'Aerospace & Defence'\n",
      " 'Arts, Entertainment & Recreation' 'Accounting & Legal' 'Healthcare'\n",
      " 'Real Estate' 'Transportation & Logistics' 'Education' 'Mining & Metals'\n",
      " 'Insurance' 'Agriculture & Forestry' 'Travel & Tourism']\n",
      "************************************************\n",
      "The top 10 Most Frequent Sector\n"
     ]
    },
    {
     "data": {
      "text/plain": [
       "[('Information Technology', 258),\n",
       " ('-1', 248),\n",
       " ('Business Services', 149),\n",
       " ('Finance', 62),\n",
       " ('Biotech & Pharmaceuticals', 46),\n",
       " ('Manufacturing', 18),\n",
       " ('Retail', 16),\n",
       " ('Transportation & Logistics', 14),\n",
       " ('Accounting & Legal', 13),\n",
       " ('Media', 12)]"
      ]
     },
     "execution_count": 18,
     "metadata": {},
     "output_type": "execute_result"
    }
   ],
   "source": [
    "print(data['Sector'].describe())\n",
    "\n",
    "print('************************************************')\n",
    "\n",
    "print('Number of Unique Sector')\n",
    "print(data['Sector'].unique())\n",
    "\n",
    "print('************************************************')\n",
    "\n",
    "# find the 10 most frequent revenue.\n",
    "print('The top 10 Most Frequent Sector')\n",
    "Revenue_count = Counter(list(data['Sector']))\n",
    "Revenue_count.most_common(10)"
   ]
  },
  {
   "cell_type": "markdown",
   "metadata": {},
   "source": [
    "#### Observations:\n",
    "1. We have 20 unique sector excluding -1 because it doesnt make any sense.\n",
    "2. Top most frequent sector which contributing in hiring is Information Technology.\n",
    "3. Most frequent recruiters are in sector IT , Busines services, Finance etc."
   ]
  },
  {
   "cell_type": "markdown",
   "metadata": {},
   "source": [
    "## Data Cleaning:"
   ]
  },
  {
   "cell_type": "code",
   "execution_count": 19,
   "metadata": {},
   "outputs": [
    {
     "name": "stdout",
     "output_type": "stream",
     "text": [
      "['Biotech & Pharmaceuticals' 'Information Technology' 'Business Services'\n",
      " 'Manufacturing' 'Retail' 'Telecommunications' 'Finance'\n",
      " 'Oil, Gas, Energy & Utilities' 'Media' 'Aerospace & Defence'\n",
      " 'Arts, Entertainment & Recreation' 'Accounting & Legal' 'Healthcare'\n",
      " 'Real Estate' 'Transportation & Logistics' 'Education' 'Mining & Metals'\n",
      " 'Insurance' 'Agriculture & Forestry' 'Travel & Tourism']\n"
     ]
    }
   ],
   "source": [
    "# Remove row which contains Rating -1 \n",
    "indexes= data[ (data['Sector'] == '-1') ].index\n",
    "data.drop(indexes,inplace=True)\n",
    "print(data['Sector'].unique())"
   ]
  },
  {
   "cell_type": "code",
   "execution_count": 20,
   "metadata": {},
   "outputs": [
    {
     "name": "stdout",
     "output_type": "stream",
     "text": [
      "['Bengaluru' 'Hyderabad' 'Chennai' 'Mumbai' 'Pune' 'Kozhikode'\n",
      " 'Chandigarh' 'India' 'New Delhi' 'Gurgaon' 'Noida' 'Thiruvananthapuram'\n",
      " 'Indore' 'Ahmedabad' 'Guntur' 'Surat' 'Bhubaneswar' 'Madurai' 'Ludhiana'\n",
      " 'Kolkata' 'Kochi' 'Jaipur' 'Vadodara' 'Mangalore']\n"
     ]
    }
   ],
   "source": [
    "# Remove row which contains locations -1 \n",
    "indexes= data[ (data['Location'] == '-1') ].index\n",
    "data.drop(indexes,inplace=True)\n",
    "print(data['Location'].unique())"
   ]
  },
  {
   "cell_type": "code",
   "execution_count": 21,
   "metadata": {},
   "outputs": [
    {
     "data": {
      "text/plain": [
       "(634, 19)"
      ]
     },
     "execution_count": 21,
     "metadata": {},
     "output_type": "execute_result"
    }
   ],
   "source": [
    "#print no of data points \n",
    "\n",
    "data.shape"
   ]
  },
  {
   "cell_type": "markdown",
   "metadata": {},
   "source": [
    "## Data Visualization:\n"
   ]
  },
  {
   "cell_type": "markdown",
   "metadata": {},
   "source": [
    "### The most common search Titles"
   ]
  },
  {
   "cell_type": "code",
   "execution_count": 26,
   "metadata": {},
   "outputs": [
    {
     "name": "stdout",
     "output_type": "stream",
     "text": [
      "Data Scientist               275\n",
      "Data Analyst                  73\n",
      "Data Engineer                 56\n",
      "Machine Learning Engineer     10\n",
      "Name: Job.Title, dtype: int64\n"
     ]
    },
    {
     "data": {
      "text/plain": [
       "<BarContainer object of 4 artists>"
      ]
     },
     "execution_count": 26,
     "metadata": {},
     "output_type": "execute_result"
    },
    {
     "data": {
      "image/png": "[encoded data removed]",
      "text/plain": [
       "<Figure size 432x288 with 1 Axes>"
      ]
     },
     "metadata": {},
     "output_type": "display_data"
    }
   ],
   "source": [
    "#group Job Titles\n",
    "vin=data.loc[data.Python==1]['Job.Title'].value_counts()\n",
    "print(vin)\n",
    "\n",
    "\n",
    "#plot for Job Title\n",
    "plt.bar(list(vin.keys()),list(vin.values),color=['r','b','Orange','g'],width=0.1 )\n",
    "#as width reduces from 1 to 0,bars become thin."
   ]
  },
  {
   "cell_type": "markdown",
   "metadata": {},
   "source": [
    "#### Conlusion\n",
    "1. Data Scientist,Data Analyst,Data Enginner , Machine Learning Engineer job titles are interchangeably  used for search AI jobs.\n",
    "2. Data Scientist , Data Analyst are most frequent job titles used."
   ]
  },
  {
   "cell_type": "markdown",
   "metadata": {},
   "source": [
    "### The most demanded skills"
   ]
  },
  {
   "cell_type": "code",
   "execution_count": 22,
   "metadata": {},
   "outputs": [
    {
     "name": "stdout",
     "output_type": "stream",
     "text": [
      "                           Python  R Prog  Excel  Hadoop  SQL  SAS\n",
      "Job.Title                                                         \n",
      "Data Analyst                   73       3    133       9  111   26\n",
      "Data Engineer                  56       1     53      43   65    2\n",
      "Data Scientist                275      15    136     108  197   57\n",
      "Machine Learning Engineer      10       1      6       2    3    0\n"
     ]
    }
   ],
   "source": [
    "#Group JOB TITLE based on Skills:\n",
    "gb = data.groupby(['Job.Title'])[['Python','R Prog','Excel','Hadoop','SQL','SAS']].sum()\n",
    "print(gb)\n",
    "\n"
   ]
  },
  {
   "cell_type": "code",
   "execution_count": 57,
   "metadata": {},
   "outputs": [
    {
     "data": {
      "text/plain": [
       "<matplotlib.axes._subplots.AxesSubplot at 0x1e3b97ff908>"
      ]
     },
     "execution_count": 57,
     "metadata": {},
     "output_type": "execute_result"
    },
    {
     "data": {
      "image/png": "[encoded data removed]",
      "text/plain": [
       "<Figure size 1440x720 with 1 Axes>"
      ]
     },
     "metadata": {},
     "output_type": "display_data"
    }
   ],
   "source": [
    "#bar plot for above analysis:\n",
    "gb.plot(kind='bar',figsize=(20,10) ,title= 'Skills which has more demand Based on Titles ')"
   ]
  },
  {
   "cell_type": "markdown",
   "metadata": {},
   "source": [
    "#### Conclusions\n",
    "1. Python is top most demanded skill is requred for data scientist job.\n",
    "2. For data Analyst Excel, python is most demanded skills required .\n",
    "3. For Machine Learning Engineer Most demanded skill is Python\n",
    "4. For Data Engineer Most demanded skills are Sql , python, excel."
   ]
  },
  {
   "cell_type": "markdown",
   "metadata": {},
   "source": [
    "## Job Vacancies based on location corresponding to job titles "
   ]
  },
  {
   "cell_type": "code",
   "execution_count": 53,
   "metadata": {},
   "outputs": [
    {
     "name": "stdout",
     "output_type": "stream",
     "text": [
      "Location            Job.Title                \n",
      "-1                  Data Scientist                12\n",
      "Ahmedabad           Data Analyst                   2\n",
      "                    Data Scientist                 6\n",
      "                    Machine Learning Engineer      1\n",
      "Bagalur             Machine Learning Engineer      1\n",
      "Barabanki           Data Scientist                 1\n",
      "Bengaluru           Data Analyst                  87\n",
      "                    Data Engineer                 41\n",
      "                    Data Scientist               246\n",
      "                    Machine Learning Engineer     19\n",
      "Bhubaneswar         Data Scientist                 2\n",
      "Chandigarh          Data Scientist                 5\n",
      "Chennai             Data Analyst                  13\n",
      "                    Data Engineer                 12\n",
      "                    Data Scientist                35\n",
      "                    Machine Learning Engineer      1\n",
      "Gandhinagar         Data Scientist                 1\n",
      "Guntur              Data Scientist                 1\n",
      "Gurgaon             Data Analyst                   5\n",
      "                    Data Engineer                  1\n",
      "                    Data Scientist                27\n",
      "                    Machine Learning Engineer      2\n",
      "Hyderabad           Data Analyst                  17\n",
      "                    Data Engineer                 13\n",
      "                    Data Scientist                45\n",
      "                    Machine Learning Engineer      1\n",
      "India               Data Analyst                   4\n",
      "                    Data Scientist                13\n",
      "                    Machine Learning Engineer      1\n",
      "Indore              Data Scientist                 2\n",
      "                                                ... \n",
      "Jamshedpur          Data Scientist                 1\n",
      "Kochi               Data Analyst                  12\n",
      "                    Data Scientist                 1\n",
      "Kolkata             Data Engineer                  1\n",
      "                    Data Scientist                 1\n",
      "Kozhikode           Data Scientist                 1\n",
      "Ludhiana            Data Scientist                 1\n",
      "Madurai             Machine Learning Engineer      1\n",
      "Mangalore           Data Scientist                 1\n",
      "Mumbai              Data Analyst                  40\n",
      "                    Data Engineer                  5\n",
      "                    Data Scientist                87\n",
      "                    Machine Learning Engineer      2\n",
      "Mysore              Data Analyst                   1\n",
      "Nagpur              Data Scientist                 1\n",
      "New Delhi           Data Analyst                  11\n",
      "                    Data Scientist                 9\n",
      "                    Machine Learning Engineer      1\n",
      "Noida               Data Analyst                   1\n",
      "                    Data Engineer                  1\n",
      "                    Data Scientist                 9\n",
      "                    Machine Learning Engineer      1\n",
      "Pitampura           Data Analyst                   1\n",
      "Pune                Data Analyst                  30\n",
      "                    Data Engineer                  3\n",
      "                    Data Scientist                31\n",
      "                    Machine Learning Engineer      3\n",
      "Surat               Data Scientist                 1\n",
      "Thiruvananthapuram  Data Scientist                 6\n",
      "Vadodara            Data Analyst                   2\n",
      "Name: Job.Title, Length: 61, dtype: int64\n"
     ]
    }
   ],
   "source": [
    "#group job title based on location, analyzing which job title has more demand in corresponding locations\n",
    "gb2 = data.groupby(by=['Location','Job.Title'])['Job.Title'].count()\n",
    "print(gb2)\n"
   ]
  },
  {
   "cell_type": "code",
   "execution_count": 55,
   "metadata": {},
   "outputs": [
    {
     "data": {
      "text/plain": [
       "<matplotlib.axes._subplots.AxesSubplot at 0x1e3b8f42ba8>"
      ]
     },
     "execution_count": 55,
     "metadata": {},
     "output_type": "execute_result"
    },
    {
     "data": {
      "image/png": "[encoded data removed]",
      "text/plain": [
       "<Figure size 1080x720 with 1 Axes>"
      ]
     },
     "metadata": {},
     "output_type": "display_data"
    }
   ],
   "source": [
    "#bar plot for Job-Titles based on location\n",
    "gb2.plot(kind = 'bar',figsize=(15,10),title='Job-Titles which has more demand based on location ')"
   ]
  },
  {
   "cell_type": "markdown",
   "metadata": {},
   "source": [
    "#### Conclusions\n",
    "1. Job Vacancy for data Scientist in Banglore is in top,then in mumbai and so on..\n",
    "2. Job Vacancy for Data Analyst in Bengaluru is in 2nd top most.\n",
    "\n"
   ]
  },
  {
   "cell_type": "markdown",
   "metadata": {},
   "source": [
    "## Job Vacancies Based on Location"
   ]
  },
  {
   "cell_type": "code",
   "execution_count": 31,
   "metadata": {},
   "outputs": [
    {
     "name": "stdout",
     "output_type": "stream",
     "text": [
      "Job vacancies based on location\n",
      "Location\n",
      "Ahmedabad               4\n",
      "Bengaluru             299\n",
      "Bhubaneswar             1\n",
      "Chandigarh              2\n",
      "Chennai                53\n",
      "Guntur                  1\n",
      "Gurgaon                24\n",
      "Hyderabad              52\n",
      "India                   7\n",
      "Indore                  1\n",
      "Jaipur                  2\n",
      "Kochi                  13\n",
      "Kolkata                 2\n",
      "Kozhikode               1\n",
      "Ludhiana                1\n",
      "Madurai                 1\n",
      "Mangalore               1\n",
      "Mumbai                 94\n",
      "New Delhi               4\n",
      "Noida                   8\n",
      "Pune                   57\n",
      "Surat                   1\n",
      "Thiruvananthapuram      4\n",
      "Vadodara                1\n",
      "Name: Job.Title, dtype: int64\n",
      "***************************************\n"
     ]
    },
    {
     "data": {
      "text/plain": [
       "<matplotlib.axes._subplots.AxesSubplot at 0x1e3b2cc2630>"
      ]
     },
     "execution_count": 31,
     "metadata": {},
     "output_type": "execute_result"
    },
    {
     "data": {
      "image/png": "[encoded data removed]",
      "text/plain": [
       "<Figure size 1080x720 with 1 Axes>"
      ]
     },
     "metadata": {},
     "output_type": "display_data"
    }
   ],
   "source": [
    "#job Vacancies based on location:\n",
    "gb3 = data.groupby(['Location'])['Job.Title'].count()\n",
    "print(\"Job vacancies based on location\")\n",
    "print(gb3)\n",
    "\n",
    "print('***************************************')\n",
    "\n",
    "#bar plot\n",
    "gb3.plot(kind = 'bar',figsize=(15,10),title='Job vacancies based on location')\n"
   ]
  },
  {
   "cell_type": "markdown",
   "metadata": {},
   "source": [
    "#### Conclusions:\n",
    "1. Bengaluru is top most location for Job vacanies.\n",
    "2. 2nd top most location in job vacancy is Mumbai,3rd is pune and so on.."
   ]
  },
  {
   "cell_type": "markdown",
   "metadata": {},
   "source": [
    "## Size of employees based on type of ownership"
   ]
  },
  {
   "cell_type": "code",
   "execution_count": 40,
   "metadata": {},
   "outputs": [
    {
     "name": "stdout",
     "output_type": "stream",
     "text": [
      "Type of ownership\n",
      "['Company - Public' 'Company - Private' '-1' 'Non-profit Organisation']\n",
      "********************************************************************\n",
      "Type.of.ownership        Size                   \n",
      "-1                       -1                          72\n",
      "                         1 to 50 employees            8\n",
      "                         10000+ employees             5\n",
      "                         1001 to 5000 employees       3\n",
      "                         201 to 500 employees        11\n",
      "                         5001 to 10000 employees      1\n",
      "                         51 to 200 employees          1\n",
      "Company - Private        -1                          62\n",
      "                         1 to 50 employees          202\n",
      "                         10000+ employees            23\n",
      "                         1001 to 5000 employees      36\n",
      "                         201 to 500 employees        67\n",
      "                         5001 to 10000 employees     21\n",
      "                         501 to 1000 employees       40\n",
      "                         51 to 200 employees        111\n",
      "Company - Public         1 to 50 employees           16\n",
      "                         10000+ employees           140\n",
      "                         1001 to 5000 employees      36\n",
      "                         5001 to 10000 employees     13\n",
      "                         501 to 1000 employees        2\n",
      "                         51 to 200 employees         13\n",
      "Non-profit Organisation  1001 to 5000 employees       1\n",
      "                         51 to 200 employees          1\n",
      "Name: Size, dtype: int64\n"
     ]
    },
    {
     "data": {
      "text/plain": [
       "<matplotlib.axes._subplots.AxesSubplot at 0x1e3b5ad9710>"
      ]
     },
     "execution_count": 40,
     "metadata": {},
     "output_type": "execute_result"
    },
    {
     "data": {
      "image/png": "[encoded data removed]",
      "text/plain": [
       "<Figure size 1440x720 with 1 Axes>"
      ]
     },
     "metadata": {},
     "output_type": "display_data"
    }
   ],
   "source": [
    "print('Type of ownership')\n",
    "print(data['Type.of.ownership'].unique())\n",
    "print('********************************************************************')\n",
    "#group by size of employees based on type of ownership\n",
    "gb1 = data.groupby(['Type.of.ownership','Size'])['Size'].count()\n",
    "print(gb1)\n",
    "\n",
    "gb1.plot(kind='bar',figsize=(20,10),title='size of employees based on type of ownership')"
   ]
  },
  {
   "cell_type": "markdown",
   "metadata": {},
   "source": [
    "#### Conclusions:\n",
    "1. -1 doesn't make any sense in analysis.\n",
    "2. Type of ownerships are private ,public and non profit organization.\n",
    "3. In private, size(1-50 employees) is high which means there are more startups companies.\n",
    "4. In Public, size(10,000 employees) is high.\n"
   ]
  },
  {
   "cell_type": "markdown",
   "metadata": {},
   "source": [
    "## Companies Which are Hiring:"
   ]
  },
  {
   "cell_type": "code",
   "execution_count": 47,
   "metadata": {},
   "outputs": [
    {
     "name": "stdout",
     "output_type": "stream",
     "text": [
      "count        885\n",
      "unique       455\n",
      "top       ZoomRx\n",
      "freq          22\n",
      "Name: Company.Name, dtype: object\n",
      "Total Unique companies are :445\n",
      "**************************************\n",
      "Unique Companies are\n",
      "['GSK' 'Quanticate' 'PayPal' 'Amazon' 'TTEC' 'Blue Yonder' 'Buckman'\n",
      " 'Corp Talents' 'Emotix Miko' 'SpringML' 'Black & Veatch' 'IBM' 'Fanatics'\n",
      " 'Skoruz' 'Tata Insights and Quants' 'TEQNirvana' 'Mastek Limited'\n",
      " 'Tata Communications' 'Right Steps Consultancy' 'MTW LABS'\n",
      " 'Tech27 Systems Ltd.' 'TransUnion' 'Analytics Vidhya' 'Angel Broking'\n",
      " 'Shell' 'Firminiq' 'Star India' 'ZettaMine' 'Applied Data Finance'\n",
      " 'Nitor Infotech' 'Autodesk' 'Sulekha' 'Zauba Corp' 'Agnik'\n",
      " 'iNVERTEDi IT Consultancy Pvt Ltd' 'Dunzo' 'Hewlett Packard Enterprise'\n",
      " 'Simpl' 'Brillio' 'AppZen' 'Novartis' 'Profisor Services'\n",
      " 'Kline & Company' 'Eyeota' 'IQLECT' 'Stark Inc.' 'Emerging India Group'\n",
      " 'Bookmyshow' 'inteliment'\n",
      " 'Mercedes-Benz Research and Development India Private Limited'\n",
      " 'Germane Analytics Pvt Ltd' 'Alphonso' 'Cumulations Technologies'\n",
      " 'Icertis' 'Healtheoz India' 'DMI' 'KhataBook' 'Redian Software' 'EY'\n",
      " 'Cactus Communications' 'Gauge Data Solutions' 'Han Digital Solution'\n",
      " 'Cisco Systems' 'Acies' 'Cubic Web Solutions' 'Siemens Healthineers'\n",
      " 'Pivotchain Solutions' 'NICE' 'Imurgence'\n",
      " 'Franklin Templeton Investments' 'Entytle' 'ScaleIn' 'Standard Chartered'\n",
      " 'Kimberly-Clark' 'Genpact' 'Processware Systems' 'itForte' 'Doubtnut'\n",
      " 'Priority Vendor' 'Talentica' 'Tomia' 'Northcorp Software Pvt. Ltd.'\n",
      " 'Ank Aha' 'R3coder' 'DataToBiz' 'Tredence' 'mplify technologies'\n",
      " 'Unionsys Technologies' 'Data Semantics' 'PipeCandy'\n",
      " 'loyalytics consulting' 'NetObjex' 'Sanofi' 'WeRecruit Talent'\n",
      " 'Exeliq Consulting' 'GenieTalk' 'Evolent Health'\n",
      " 'Bigtree Entertainment Pvt.Ltd.' 'GridEdge Technologies' 'TCG Digital'\n",
      " 'Quincus' 'Boston Consulting Group' 'Baker Hughes' 'Lincode'\n",
      " 'Infinium Solutionz' 'Credit Suisse' 'Solugenix Corp' 'CogniSure'\n",
      " 'Star TV Network' 'Cove Venture' 'Hookfish' 'Microsoft' 'Sequretek'\n",
      " 'Ganit' 'Algoscale' 'Careator Technologies' 'Casepoint Pvt. Ltd'\n",
      " 'dunnhumby' 'Protocolzone' 'Wipro Limited' 'Miles' 'Magicbricks'\n",
      " 'iqm.com' 'Mahajan Imaging' 'Meesho' 'Daimler' 'Dasceq' 'Calsoft Labs'\n",
      " 'SumTotal' 'ThoughtWorks' 'Micro Focus' 'CoStrategix Technologies'\n",
      " 'XPO Logistics' 'Camsdata' 'Aptus Health'\n",
      " 'Unitforce Technologies Consulting Pvt Ltd' 'Pinnacle Digital Analytics'\n",
      " 'Fitfyles' 'ECS' 'ETAIOTA Systems' 'Hindujatech' 'Cleareye.ai solutions'\n",
      " 'TALCHEMIST' 'BreathX Technologies Inc, ( Canary Health Technologies)'\n",
      " 'Star' 'Honeywell' 'SILICON TECHLAB' 'torcai digital media' 'BDB'\n",
      " 'Sybrant Technologies' 'Anlage HRO Services'\n",
      " 'Verzeo Edutech Private Limited' 'Pattern Effects Labs'\n",
      " 'Saffron Consultancy Services'\n",
      " 'Wade Maritime Consultants Private Limited' 'Tenzai' 'Innominds Software'\n",
      " 'NSEIT' 'Jubna' 'Benchire' 'big tree' 'Lymbyc Solutions'\n",
      " 'Indecomm Global Services India Private Limited'\n",
      " 'JMA Global IT Solutions SDN BHD' 'Techvantage Systems'\n",
      " 'Tekumani Agri Assest Private Ltd' 'CareerXperts' 'SearchUrCollege'\n",
      " 'FinAcPlus' 'Bharat Light & Power' 'Techmango Technology Services'\n",
      " 'Flexi Careers India Private Limited' 'DSS Sustainable Solutions'\n",
      " 'Jidoka Technologies' 'IHS Markit' 'Alpha ICT LLP' 'Morningstar'\n",
      " 'AGUILASS' 'McAfee' 'Maersk Group' 'Mindbowser Info Solutions Pvt Ltd'\n",
      " 'Sybrant Data' 'RGF Professional Recruitment' 'Barclays'\n",
      " 'Shiras HR Advisory & Services' 'zyoin' 'Snowflake'\n",
      " 'Shree Consultancy Services' 'Amazon Dev Center India - Hyd'\n",
      " 'Futurious Technologies' 'GSN Games' 'Crimson Interactive' 'CustomerXPs'\n",
      " 'NOVIQUE HEALTH' 'TomTom' 'Escon Info Systems' 'NextNav'\n",
      " 'ADCI HYD 13 SEZ' 'Truecaller' 'AmyLogic' 'TEG Analytics' 'SigTuple'\n",
      " 'RedLotus' 'Pacoline IT' 'Happiest Minds Technologies'\n",
      " 'Equinox e Services' 'Melstar Information Technologies Limited' 'SAP'\n",
      " 'Nanobi Data And Analytics' 'Qualys' 'Bloom Consulting Services' 'Esper'\n",
      " 'Staffio HR' 'WSD Consultant' 'Toppr' 'TheMathCompany' 'Trident Group'\n",
      " 'ICL Systems' 'Machstatz' 'Seldon' 'Weatherford' 'Ultria' 'Noodle.ai'\n",
      " 'SociÃ©tÃ© GÃ©nÃ©rale' 'Simplify360' 'Siemens' 'Blackstraw'\n",
      " 'Reverie Language Technologies' 'Spectrus' 'FrankPro Consulting [OPC]'\n",
      " 'Inference Labs' 'HERE Technologies' 'Credencys Solutions' 'Diamondpick'\n",
      " 'Sony/ATV Music Publishing' 'Vitrana' 'Danske IT and Support Services'\n",
      " 'h2o.ai' 'Innefu Labs Pvt. Ltd.' 'IQVIA' 'Valiance Solutions'\n",
      " 'Cornerstone OnDemand' 'ADmyBRAND' 'Avenues Consulting' 'Wadhwani AI'\n",
      " 'Accenture' 'Bidgely' 'Sony Corporation of America'\n",
      " 'upGrad Education Private Limited' 'XLNC Technologies' 'OYE Loans'\n",
      " 'CereSight' 'General Mills Services, Inc.'\n",
      " 'Winfoglobal Technologies Private Limited' 'Zynga' 'Accrete.AI'\n",
      " 'hudsondata.com' 'Continues Intelligence Lab' 'Ericsson-Worldwide'\n",
      " 'GO-JEK' 'CIEL HR Services' 'Flytxt Mobile Solutions' 'Philips'\n",
      " 'Freshworks' 'Forgeahead' 'Sage IT India' 'General Mills' 'Aktana'\n",
      " 'CrossML' 'Amantya Technologies' 'Mavenir' 'Oracle' 'True Caller'\n",
      " 'Rockwell Automation' 'Involvio' 'Soothsayer Analytics' 'Soroco'\n",
      " 'Uncap Research Labs' 'FireEye, Inc.' 'GivingForce Limited' 'Prepladder'\n",
      " 'Novacom Technologies' 'Q-Dat IT Solutions' 'Intel Corporation' 'Citrix'\n",
      " 'Ruby Seven Studios' 'Rentpay' 'Analytics Quotient'\n",
      " 'legalbabu corporate services pvt ltd' 'Walmart' 'Fidelity Investments'\n",
      " 'Elsevier' 'VentureWise' 'Anaxee Digital Runners Pvt Ltd'\n",
      " 'zBliss Technologies' 'Innoplexus' 'The Data Team'\n",
      " 'Reliance Jio Infocomm Limited' 'Zycus' 'Twilio' 'Nuware Systems' 'Slack'\n",
      " 'PharmEasy' '6sense' 'Lido Learning' 'Micron Technology'\n",
      " 'Healthcoco Technologies' 'Sellcraft Global Solutions Private Limited'\n",
      " 'Anblicks' 'Dotbits' 'Netcore Solutions' 'GroundTruth' 'Careerera'\n",
      " 'Nokia' 'Golden Opportunities' 'Paytm' 'NetApp'\n",
      " 'Bajaj Allianz General Insurance Company' 'Ipreo' 'o9 Solutions, Inc.'\n",
      " 'Evoke Technologies' 'TCPWave' 'Replicon' 'Embold Technologies GmbH'\n",
      " 'Whizzystack' 'Colgate-Palmolive' 'Cervello Inc' 'Cargill' 'Britive'\n",
      " 'Novotree Minds Consulting Private Limited' 'Shipsy' 'TO THE NEW'\n",
      " 'Roljobs Technology Services Pvt Ltd' 'J.P. Morgan' 'Cerner' 'Google'\n",
      " 'Insigno Quipment' 'Tech2globe web solution' 'Accrualify Inc'\n",
      " 'Rockstar Games' 'BookMyShow' 'Paisool' 'Morgan Stanley' 'Astegic'\n",
      " 'Adoro' 'Infometry Inc.' 'eInvenSys' 'AXA Business Services'\n",
      " 'GE Appliances' 'Inkers' 'Quantzig' 'Envestnet | Yodlee' 'Synopsys'\n",
      " 'Locobuzz Solutions Pvt. Ltd.' 'CAPCO' 'Hitwicket' 'ALGOANALYTICS'\n",
      " 'Alliance University' 'Engineering manufacturing company' 'Palpx'\n",
      " 'Pratiti Technologies' 'Mystro' 'Wells Fargo' 'Dell Technologies'\n",
      " 'Sampoorna Computer People' 'Grid Logic Software Private Limited'\n",
      " 'Molecular Connections' 'Clustr' 'AI-Adam' 'The Straits Network'\n",
      " 'Symphony SUMMIT' 'Indian School of Business' 'VMware'\n",
      " 'Coresight Research, Inc.' 'Postdot Technologies' 'Intellithink'\n",
      " 'Finaxar' 'HR Inc Consultants' 'GI Group Holdings'\n",
      " 'TechPro HR Consultancy' 'AstraZeneca' 'ERM Group' 'PwC'\n",
      " 'Aera Technology' 'Ralph Lauren' 'UnitedHealth Group' 'e-con Systems'\n",
      " 'lemark institute of art' 'Proziod Analytics' 'Hexanika' 'Talent Arabia'\n",
      " 'Great Learning' 'Danaher Digital' 'Inspire Global Solutions'\n",
      " 'StartUs Insights' 'Teamlease Digital Private Limited' 'Digital Impacter'\n",
      " 'QuinStreet' 'TBO Group' 'SMART GLADIATOR' 'Citi' 'smart4talent'\n",
      " 'HealthifyMe Wellness Private Limited' 'FICO' 'Bosch Group'\n",
      " 'Parallel Wireless' 'Mirum Digital Pvt. Ltd.'\n",
      " 'IntelliPredikt Technologies' 'ADCI - Karnataka'\n",
      " 'Claim Genius Making touchless claims a reality' 'Pluto7' 'CoreCompete'\n",
      " 'ARi' 'Thoucentric' 'QuEST Global' 'Ladder Consultancy Services' 'Eclerx'\n",
      " 'String Bio' 'DigiCert' 'Cubic' 'D Cube Analytics' 'Jio' 'Target'\n",
      " 'Liventus' 'kyte Tech Consulting LLP' 'Meyrahkee' 'Paxcom India Pvt. Ltd'\n",
      " 'Indegene' 'Quantiphi' 'Thrillophilia' 'Fine Jobs'\n",
      " 'MAESTRO PLACEMENT CONSULTANCY SERVICES' 'LogisticsNow' 'Lynkit' 'Kwalee'\n",
      " 'Happy Marketer' 'Pype' 'Matelabs Innovations Pvt. Ltd.' 'GP Strategies'\n",
      " 'BuzzBoard' 'Magna Infotech (India)' 'Rubicon Red'\n",
      " 'Crescendo Global Services' 'ZoomRx' 'Khoros, LLC'\n",
      " 'Institutional Shareholder Services, Inc.' 'Cleartrip' 'Approgence'\n",
      " 'Live Connections' 'Copiousminds' 'FLEXILOANS TECHNOLOGIES'\n",
      " 'Think Analytics India' 'WDB Inida Private Limited' 'The Edge Asia'\n",
      " 'Capgemini']\n"
     ]
    }
   ],
   "source": [
    "\n",
    "print(data['Company.Name'].describe())\n",
    "print('Total Unique companies are :445')\n",
    "\n",
    "print('**************************************')\n",
    "\n",
    "print('Unique Companies are')\n",
    "print(data['Company.Name'].unique())\n",
    "\n",
    "# find the 10 most frequent Company.Name.\n",
    "Company_Name_count = Counter(list(data['Company.Name']))\n",
    "CN = Company_Name_count.most_common(10)\n"
   ]
  },
  {
   "cell_type": "markdown",
   "metadata": {},
   "source": [
    "## Top Most 10 Companies which are Hiring"
   ]
  },
  {
   "cell_type": "code",
   "execution_count": 62,
   "metadata": {},
   "outputs": [
    {
     "name": "stdout",
     "output_type": "stream",
     "text": [
      "Top Most 10 Companies which are Hiring\n"
     ]
    },
    {
     "data": {
      "text/plain": [
       "[('ZoomRx', 22),\n",
       " ('Amazon', 12),\n",
       " ('EY', 12),\n",
       " ('Sanofi', 12),\n",
       " ('Walmart', 12),\n",
       " ('Quantzig', 12),\n",
       " ('Citi', 12),\n",
       " ('String Bio', 12),\n",
       " ('Matelabs Innovations Pvt. Ltd.', 12),\n",
       " ('LogisticsNow', 11)]"
      ]
     },
     "execution_count": 62,
     "metadata": {},
     "output_type": "execute_result"
    }
   ],
   "source": [
    "#print top 10 companies most frequent to hire based on job posting\n",
    "print('Top Most 10 Companies which are Hiring')\n",
    "CN\n"
   ]
  },
  {
   "cell_type": "markdown",
   "metadata": {},
   "source": [
    "#### Final Conclusions:\n",
    "[Q] Find Companies most probable to hire an ML Engineer/Data Analyst Applicant in respect to his/her skillset.\n",
    "\n",
    "[Ans] Top Most Companies which are hiring are 'ZoomRx','Amazon','EY','Walmart','Citi','Sanfoi','Matelabs Innovations Pvt. Ltd. etc.\n",
    "\n",
    "[Q] To analyse Machine Learning/Data Analyst Job Market in India and outline the segments most optimal to apply or prepare for Data Analyst/ Machine Learning Jobs.\n",
    "\n",
    "[Ans] Top Most Locations Which Are Hiring Machine Learning/Data Analyst in India Are Beangaluru,Mumbai,Pune,Chennai,Hyderbad.\n",
    "      Top Most Demanded Skills for prepare Data Analyst/ Machine Learning Jobs are Python,Excel,SQL."
   ]
  },
  {
   "cell_type": "code",
   "execution_count": null,
   "metadata": {},
   "outputs": [],
   "source": []
  }
 ],
 "metadata": {
  "kernelspec": {
   "display_name": "Python 3",
   "language": "python",
   "name": "python3"
  },
  "language_info": {
   "codemirror_mode": {
    "name": "ipython",
    "version": 3
   },
   "file_extension": ".py",
   "mimetype": "text/x-python",
   "name": "python",
   "nbconvert_exporter": "python",
   "pygments_lexer": "ipython3",
   "version": "3.6.5"
  }
 },
 "nbformat": 4,
 "nbformat_minor": 2
}
